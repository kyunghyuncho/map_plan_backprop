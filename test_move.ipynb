{
 "cells": [
  {
   "cell_type": "code",
   "execution_count": 1,
   "metadata": {},
   "outputs": [],
   "source": [
    "# import packages for visualization\n",
    "import matplotlib.pyplot as plt\n",
    "import numpy as np\n",
    "import torch\n",
    "import torch.nn as nn\n",
    "import torch.nn.functional as F\n",
    "import torch.optim as optim\n",
    "from map_plan import *\n",
    "\n",
    "import copy"
   ]
  },
  {
   "cell_type": "code",
   "execution_count": 2,
   "metadata": {},
   "outputs": [],
   "source": [
    "sample_map = create_sample_map()\n",
    "true_obstacle_map = sample_map[:,:,0]\n",
    "goal_map = sample_map[:,:,1]\n",
    "current_pos_map = sample_map[:,:,2]"
   ]
  },
  {
   "cell_type": "code",
   "execution_count": 37,
   "metadata": {},
   "outputs": [
    {
     "name": "stdout",
     "output_type": "stream",
     "text": [
      "step 0, position: (tensor(0), tensor(0))\n",
      "step 1, position: (tensor(0), tensor(0)), distance to the goal: 21.470911026000977\n",
      "step 11, position: (tensor(4), tensor(2)), distance to the goal: 17.0\n",
      "step 21, position: (tensor(9), tensor(12)), distance to the goal: 10.198039054870605\n",
      "Goal reached!\n"
     ]
    }
   ],
   "source": [
    "# start from the current position,\n",
    "# make the observation of the map and update the obstacle map,\n",
    "# perform a trajectory optimization,\n",
    "# move to the second position in the trajectory,\n",
    "# and repeat.\n",
    "\n",
    "n_total_steps = 100\n",
    "n_obstacle_steps = 20\n",
    "n_trajectory_steps = 20\n",
    "trajectory_length = 20\n",
    "\n",
    "# maximum range of each transition\n",
    "max_length = 3\n",
    "\n",
    "# initialize the obstacle map\n",
    "obstacle_map = 0.01 * torch.randn_like(true_obstacle_map)\n",
    "obstacle_map.requires_grad = True\n",
    "\n",
    "# initialize the current position\n",
    "current_position = get_hard_position(current_pos_map, argmax=True)\n",
    "\n",
    "# initialize the goal position\n",
    "goal_position = get_hard_position(goal_map, argmax=True)\n",
    "\n",
    "# initialize the obstacle optimizer\n",
    "obstacle_optimizer = optim.Adam([obstacle_map], lr=0.01)\n",
    "\n",
    "# all positions\n",
    "positions = [[current_position[0].item(), current_position[1].item()]]\n",
    "\n",
    "# all distances\n",
    "distances = []\n",
    "\n",
    "trajectory = None\n",
    "\n",
    "print(f'step {0}, position: {current_position}')\n",
    "\n",
    "# iterate over the total number of steps\n",
    "for i in range(n_total_steps):\n",
    "    current_position = [current_position[0].item(), current_position[1].item()]\n",
    "\n",
    "    # make noisy observation of the map\n",
    "    noisy_view_bot = obstacle_view(true_obstacle_map, \n",
    "                                   get_soft_position(*current_position, beta=0.1), \n",
    "                                   noise=0.05)\n",
    "    \n",
    "    # update the estimated obstacle map\n",
    "    loss = update_obstacle_map(obstacle_map,\n",
    "                               get_soft_position(*current_position, beta=0.1), \n",
    "                               noisy_view_bot, \n",
    "                               optimizer=obstacle_optimizer,\n",
    "                               n_steps=n_obstacle_steps)\n",
    "    \n",
    "    # perform a trajectory optimization\n",
    "    if trajectory is not None:\n",
    "        new_trajectory = trajectory.clone().detach()\n",
    "        new_trajectory[:-1] = trajectory[1:]\n",
    "        new_trajectory[-1] = trajectory[-2]\n",
    "        new_trajectory = new_trajectory + 0.01 * torch.randn_like(trajectory)\n",
    "        trajectory = new_trajectory.clone().detach()\n",
    "\n",
    "    trajectory = optimize_trajectory(torch.sigmoid(obstacle_map.clone().detach()), \n",
    "                                     goal_map,\n",
    "                                     get_soft_position(*current_position, beta=0.1), \n",
    "                                     trajectory_length=trajectory_length, \n",
    "                                     num_iterations=n_trajectory_steps,\n",
    "                                     initial_trajectory=trajectory)\n",
    "\n",
    "    # move to the first position in the trajectory that differs from the current position\n",
    "    new_position = None\n",
    "    for j in range(trajectory_length):\n",
    "        if torch.norm(torch.round(trajectory[j]) - \n",
    "                      torch.round(torch.tensor(current_position)).float()) > 0.:\n",
    "            new_position = trajectory[j]\n",
    "            break\n",
    "    if new_position is None:\n",
    "        print('No new position found')\n",
    "        break\n",
    "    \n",
    "    # move to the new position\n",
    "    delta_position = (torch.round(new_position).detach() - \n",
    "                      torch.round(torch.tensor(current_position)))\n",
    "\n",
    "    # cap the delta\n",
    "    delta_position = torch.clamp(delta_position, -max_length, max_length)\n",
    "\n",
    "    # update the current position\n",
    "    current_position = move_position(*current_position, *delta_position.long(), true_obstacle_map)\n",
    "\n",
    "    # store the current position\n",
    "    positions.append([current_position[0].item(), current_position[1].item()])\n",
    "\n",
    "    # distance to the goal from current_position\n",
    "    distance = torch.norm(torch.tensor(current_position).float() - \n",
    "                          torch.tensor(goal_position).float()).item()\n",
    "\n",
    "    # store the distance\n",
    "    distances.append(distance)\n",
    "\n",
    "    if i % 10 == 0:\n",
    "        print(f'step {i+1}, position: {current_position}, distance to the goal: {distance}')\n",
    "\n",
    "    if distance <= 2.:\n",
    "        print('Goal reached!')\n",
    "        break"
   ]
  },
  {
   "cell_type": "code",
   "execution_count": 38,
   "metadata": {},
   "outputs": [
    {
     "data": {
      "image/png": "[encoded data removed]",
      "text/plain": [
       "<Figure size 640x480 with 1 Axes>"
      ]
     },
     "metadata": {},
     "output_type": "display_data"
    }
   ],
   "source": [
    "# visualize the trajectory over the true obstacle and goal position.\n",
    "plt.imshow(true_obstacle_map, cmap='gray')\n",
    "plt.scatter(*(goal_position[::-1]), c='g')\n",
    "# plot the positions in positions and connect them with arrows\n",
    "for i in range(len(positions) - 1):\n",
    "    plt.arrow(positions[i][1], positions[i][0], \n",
    "              *(np.array(positions[i+1])[::-1] - np.array(positions[i])[::-1]), \n",
    "              head_width=0.5, color='r')\n",
    "plt.show()"
   ]
  },
  {
   "cell_type": "code",
   "execution_count": 36,
   "metadata": {},
   "outputs": [
    {
     "data": {
      "image/png": "[encoded data removed]",
      "text/plain": [
       "<Figure size 640x480 with 2 Axes>"
      ]
     },
     "metadata": {},
     "output_type": "display_data"
    }
   ],
   "source": [
    "# visualize the estimated obstacle map\n",
    "plt.imshow(torch.sigmoid(obstacle_map.detach()).numpy(), cmap='gray')\n",
    "plt.colorbar()\n",
    "plt.show()"
   ]
  },
  {
   "cell_type": "code",
   "execution_count": 77,
   "metadata": {},
   "outputs": [
    {
     "data": {
      "text/plain": [
       "(tensor(2), tensor(1))"
      ]
     },
     "execution_count": 77,
     "metadata": {},
     "output_type": "execute_result"
    }
   ],
   "source": [
    "new_position"
   ]
  },
  {
   "cell_type": "code",
   "execution_count": 78,
   "metadata": {},
   "outputs": [
    {
     "data": {
      "text/plain": [
       "[0, 0]"
      ]
     },
     "execution_count": 78,
     "metadata": {},
     "output_type": "execute_result"
    }
   ],
   "source": [
    "current_position"
   ]
  },
  {
   "cell_type": "code",
   "execution_count": null,
   "metadata": {},
   "outputs": [],
   "source": []
  }
 ],
 "metadata": {
  "kernelspec": {
   "display_name": "base",
   "language": "python",
   "name": "python3"
  },
  "language_info": {
   "codemirror_mode": {
    "name": "ipython",
    "version": 3
   },
   "file_extension": ".py",
   "mimetype": "text/x-python",
   "name": "python",
   "nbconvert_exporter": "python",
   "pygments_lexer": "ipython3",
   "version": "3.9.18"
  }
 },
 "nbformat": 4,
 "nbformat_minor": 2
}
